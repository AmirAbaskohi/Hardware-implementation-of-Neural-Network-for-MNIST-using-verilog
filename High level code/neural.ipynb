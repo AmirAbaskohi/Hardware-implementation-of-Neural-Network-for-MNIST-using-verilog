{
 "cells": [
  {
   "cell_type": "code",
   "execution_count": 9,
   "metadata": {
    "scrolled": false
   },
   "outputs": [
    {
     "data": {
      "text/plain": [
       "[7588, 10099, 12488, 27485, 35127, 26598, -6888, -820, 19334]"
      ]
     },
     "execution_count": 9,
     "metadata": {},
     "output_type": "execute_result"
    }
   ],
   "source": [
    "f1 = open(\"test_data_sm.txt\")\n",
    "f2 = open(\"test_lable_sm.txt\")\n",
    "f3 = open(\"wh_sm.txt\")\n",
    "f4 = open(\"wo_sm.txt\")\n",
    "f5 = open(\"bh_sm.txt\")\n",
    "f6 = open(\"bo_sm.txt\")\n",
    "\n",
    "def smToInt(x):\n",
    "    if x > 127 :\n",
    "        return 128 - x\n",
    "    return x\n",
    "\n",
    "test_data = []\n",
    "test_lable = []\n",
    "wh = []\n",
    "wo = []\n",
    "bh = []\n",
    "bo = []\n",
    "\n",
    "for i in f1.readlines():\n",
    "    test_data.append(int(i.strip(), 16))\n",
    "for i in f2.readlines():\n",
    "    test_lable.append(int(i.strip(), 16))\n",
    "for i in f3.readlines():\n",
    "    wh.append(int(i.strip(), 16))\n",
    "for i in f4.readlines():\n",
    "    wo.append(int(i.strip(), 16))\n",
    "for i in f5.readlines():\n",
    "    bh.append(int(i.strip(), 16))\n",
    "for i in f6.readlines():\n",
    "    bo.append(int(i.strip(), 16))\n",
    "\n",
    "ans = [[0 for j in range(20)]for i in range(750)]\n",
    "ans2 = [[0 for j in range(10)]for i in range(750)]\n",
    "\n",
    "for i in range(750):\n",
    "    for j in range(20):  \n",
    "        for k in range(62):\n",
    "            first = smToInt(test_data[i*62 + k])\n",
    "            second = smToInt(wh[j*62 + k])\n",
    "        \n",
    "            ans[i][j] += first * second\n",
    "            \n",
    "        first = smToInt(bh[j])\n",
    "        ans[i][j] += first * 127\n",
    "        \n",
    "#         ans[i][j] = int(ans[i][j] / 512)\n",
    "        \n",
    "#         if (ans[i][j] < 0):\n",
    "#             ans[i][j] = 0\n",
    "            \n",
    "#         if (ans[i][j] > 127):\n",
    "#             ans[i][j] = 127\n",
    "            \n",
    "            \n",
    "for i in range(750):\n",
    "    for j in range(10):\n",
    "        for k in range(20):\n",
    "            first = ans[i][k]\n",
    "            second = smToInt(wo[j*20 + k])\n",
    "            \n",
    "            ans2[i][j] += first * second\n",
    "            \n",
    "        first = smToInt(bo[j])\n",
    "        \n",
    "        ans2[i][j] += first * 127\n",
    "        \n",
    "#         ans2[i][j] = int(ans2[i][j] / 512)\n",
    "        \n",
    "        if (ans2[i][j] < 0):\n",
    "            ans2[i][j] = 0\n",
    "            \n",
    "#         if (ans2[i][j] > 127):\n",
    "#             ans2[i][j] = 127\n",
    "\n",
    "count = 0;\n",
    "for i in range(750):\n",
    "    if (ans2[i].index(max(ans2[i])) == test_lable[i]):\n",
    "        count = count + 1\n",
    "ans[0][0:9]"
   ]
  },
  {
   "cell_type": "code",
   "execution_count": null,
   "metadata": {},
   "outputs": [],
   "source": []
  }
 ],
 "metadata": {
  "kernelspec": {
   "display_name": "Python 3",
   "language": "python",
   "name": "python3"
  },
  "language_info": {
   "codemirror_mode": {
    "name": "ipython",
    "version": 3
   },
   "file_extension": ".py",
   "mimetype": "text/x-python",
   "name": "python",
   "nbconvert_exporter": "python",
   "pygments_lexer": "ipython3",
   "version": "3.7.4"
  }
 },
 "nbformat": 4,
 "nbformat_minor": 4
}
